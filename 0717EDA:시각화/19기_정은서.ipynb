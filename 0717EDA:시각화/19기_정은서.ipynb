{
  "nbformat": 4,
  "nbformat_minor": 0,
  "metadata": {
    "colab": {
      "name": "19기_정은서.ipynb",
      "provenance": [],
      "collapsed_sections": []
    },
    "kernelspec": {
      "display_name": "Python 3",
      "language": "python",
      "name": "python3"
    },
    "language_info": {
      "codemirror_mode": {
        "name": "ipython",
        "version": 3
      },
      "file_extension": ".py",
      "mimetype": "text/x-python",
      "name": "python",
      "nbconvert_exporter": "python",
      "pygments_lexer": "ipython3",
      "version": "3.8.10"
    }
  },
  "cells": [
    {
      "cell_type": "markdown",
      "metadata": {
        "id": "x0yoa3uTfcoz"
      },
      "source": [
        "# EDA 과제 \n",
        "#### <font color='orange'> - 약간 매운맛"
      ]
    },
    {
      "cell_type": "markdown",
      "metadata": {
        "id": "PfuUHX59fco0"
      },
      "source": [
        "by YBIGTA 16기 DA Team 김지환"
      ]
    },
    {
      "cell_type": "markdown",
      "metadata": {
        "id": "vfK2PJbOfco1"
      },
      "source": [
        "<img src='https://i.imgur.com/cqdVyfs.jpg'>\n",
        "\n",
        "\n",
        "---\n",
        "여러분은 Airbnb 런던 지사의 데이터 분석가입니다.\n",
        "\n",
        "이번에 호스트들에게 적정한 방 가격을 책정해주는 프로젝트를 진행할 예정입니다.\n",
        "\n",
        "이를 위해 기존에 런던에 있던 Airbnb 방 데이터를 분석할 것입니다.\n",
        "\n",
        "각 문제에 대해 적절한 코드 혹은 답변을 제시해보세요.\n",
        "\n",
        "---"
      ]
    },
    {
      "cell_type": "code",
      "metadata": {
        "id": "tROG2Acf2eKM"
      },
      "source": [
        "import pandas as pd\n",
        "import numpy as np\n",
        "import matplotlib.pyplot as plt\n",
        "%matplotlib inline\n",
        "# notebook을 실행한 브라우저에서 바로 그림을 볼 수 있게 해주는 코드. 버전에 따라 필요 없을 수도 있습니다.\n",
        "import seaborn as sns"
      ],
      "execution_count": 2,
      "outputs": []
    },
    {
      "cell_type": "code",
      "metadata": {
        "id": "Ay_oqYuW2eKP",
        "colab": {
          "base_uri": "https://localhost:8080/"
        },
        "outputId": "2c4b9b31-b968-4d4d-ba95-53f58146cd76"
      },
      "source": [
        "df = pd.read_csv('airbnb_listings.csv', index_col=0)"
      ],
      "execution_count": 4,
      "outputs": [
        {
          "output_type": "stream",
          "text": [
            "/usr/local/lib/python3.7/dist-packages/IPython/core/interactiveshell.py:2718: DtypeWarning: Columns (25,26,47) have mixed types.Specify dtype option on import or set low_memory=False.\n",
            "  interactivity=interactivity, compiler=compiler, result=result)\n"
          ],
          "name": "stderr"
        }
      ]
    },
    {
      "cell_type": "markdown",
      "metadata": {
        "id": "PJLnjOfZfco8"
      },
      "source": [
        "# EDA"
      ]
    },
    {
      "cell_type": "markdown",
      "metadata": {
        "id": "W4Bydfl-fco9"
      },
      "source": [
        "### 1) 전체 데이터 확인"
      ]
    },
    {
      "cell_type": "markdown",
      "metadata": {
        "id": "E3dSDYVGfco9"
      },
      "source": [
        "- #### <font color='orange'> Q1. 상위 5개의 데이터를 확인해보세요. 컬럼 수가 많으니 모든 컬럼을 표시하도록 조정하세요. </font>"
      ]
    },
    {
      "cell_type": "code",
      "metadata": {
        "id": "13sbz1b62eKT",
        "colab": {
          "base_uri": "https://localhost:8080/",
          "height": 360
        },
        "outputId": "e73f537c-a076-422b-88ac-88e3bf860b56"
      },
      "source": [
        "# Q1\n",
        "pd.options.display.max_columns = None\n",
        "df.head()"
      ],
      "execution_count": 5,
      "outputs": [
        {
          "output_type": "execute_result",
          "data": {
            "text/html": [
              "<div>\n",
              "<style scoped>\n",
              "    .dataframe tbody tr th:only-of-type {\n",
              "        vertical-align: middle;\n",
              "    }\n",
              "\n",
              "    .dataframe tbody tr th {\n",
              "        vertical-align: top;\n",
              "    }\n",
              "\n",
              "    .dataframe thead th {\n",
              "        text-align: right;\n",
              "    }\n",
              "</style>\n",
              "<table border=\"1\" class=\"dataframe\">\n",
              "  <thead>\n",
              "    <tr style=\"text-align: right;\">\n",
              "      <th></th>\n",
              "      <th>id</th>\n",
              "      <th>host_response_time</th>\n",
              "      <th>host_response_rate</th>\n",
              "      <th>host_acceptance_rate</th>\n",
              "      <th>host_is_superhost</th>\n",
              "      <th>host_listings_count</th>\n",
              "      <th>host_total_listings_count</th>\n",
              "      <th>host_verifications</th>\n",
              "      <th>host_has_profile_pic</th>\n",
              "      <th>host_identity_verified</th>\n",
              "      <th>neighborhood</th>\n",
              "      <th>latitude</th>\n",
              "      <th>longitude</th>\n",
              "      <th>is_location_exact</th>\n",
              "      <th>property_type</th>\n",
              "      <th>room_type</th>\n",
              "      <th>accommodates</th>\n",
              "      <th>bathrooms</th>\n",
              "      <th>bedrooms</th>\n",
              "      <th>beds</th>\n",
              "      <th>bed_type</th>\n",
              "      <th>amenities</th>\n",
              "      <th>square_feet</th>\n",
              "      <th>price</th>\n",
              "      <th>weekly_price</th>\n",
              "      <th>monthly_price</th>\n",
              "      <th>security_deposit</th>\n",
              "      <th>guests_included</th>\n",
              "      <th>extra_people</th>\n",
              "      <th>minimum_nights</th>\n",
              "      <th>maximum_nights</th>\n",
              "      <th>has_availability</th>\n",
              "      <th>availability_30</th>\n",
              "      <th>availability_60</th>\n",
              "      <th>availability_90</th>\n",
              "      <th>availability_365</th>\n",
              "      <th>number_of_reviews</th>\n",
              "      <th>number_of_reviews_ltm</th>\n",
              "      <th>review_scores_rating</th>\n",
              "      <th>review_scores_accuracy</th>\n",
              "      <th>review_scores_cleanliness</th>\n",
              "      <th>review_scores_checkin</th>\n",
              "      <th>review_scores_communication</th>\n",
              "      <th>review_scores_location</th>\n",
              "      <th>review_scores_value</th>\n",
              "      <th>requires_license</th>\n",
              "      <th>license</th>\n",
              "      <th>jurisdiction_names</th>\n",
              "      <th>instant_bookable</th>\n",
              "      <th>is_business_travel_ready</th>\n",
              "      <th>cancellation_policy</th>\n",
              "      <th>require_guest_profile_picture</th>\n",
              "      <th>require_guest_phone_verification</th>\n",
              "      <th>reviews_per_month</th>\n",
              "    </tr>\n",
              "  </thead>\n",
              "  <tbody>\n",
              "    <tr>\n",
              "      <th>0</th>\n",
              "      <td>2060</td>\n",
              "      <td>a few days or more</td>\n",
              "      <td>22%</td>\n",
              "      <td>50%</td>\n",
              "      <td>f</td>\n",
              "      <td>0.0</td>\n",
              "      <td>0.0</td>\n",
              "      <td>['reviews']</td>\n",
              "      <td>t</td>\n",
              "      <td>f</td>\n",
              "      <td>Manhattan</td>\n",
              "      <td>40.85722</td>\n",
              "      <td>-73.93790</td>\n",
              "      <td>t</td>\n",
              "      <td>Other</td>\n",
              "      <td>Private room</td>\n",
              "      <td>2</td>\n",
              "      <td>NaN</td>\n",
              "      <td>1.0</td>\n",
              "      <td>2.0</td>\n",
              "      <td>Real Bed</td>\n",
              "      <td>{Internet,Wifi}</td>\n",
              "      <td>NaN</td>\n",
              "      <td>100</td>\n",
              "      <td>NaN</td>\n",
              "      <td>NaN</td>\n",
              "      <td>NaN</td>\n",
              "      <td>1</td>\n",
              "      <td>$0.00</td>\n",
              "      <td>1</td>\n",
              "      <td>730</td>\n",
              "      <td>t</td>\n",
              "      <td>30</td>\n",
              "      <td>60</td>\n",
              "      <td>90</td>\n",
              "      <td>365</td>\n",
              "      <td>1</td>\n",
              "      <td>0</td>\n",
              "      <td>80.0</td>\n",
              "      <td>NaN</td>\n",
              "      <td>NaN</td>\n",
              "      <td>NaN</td>\n",
              "      <td>NaN</td>\n",
              "      <td>NaN</td>\n",
              "      <td>NaN</td>\n",
              "      <td>f</td>\n",
              "      <td>NaN</td>\n",
              "      <td>NaN</td>\n",
              "      <td>f</td>\n",
              "      <td>f</td>\n",
              "      <td>flexible</td>\n",
              "      <td>f</td>\n",
              "      <td>f</td>\n",
              "      <td>0.01</td>\n",
              "    </tr>\n",
              "    <tr>\n",
              "      <th>1</th>\n",
              "      <td>2595</td>\n",
              "      <td>within a day</td>\n",
              "      <td>87%</td>\n",
              "      <td>38%</td>\n",
              "      <td>f</td>\n",
              "      <td>6.0</td>\n",
              "      <td>6.0</td>\n",
              "      <td>['email', 'phone', 'reviews', 'offline_governm...</td>\n",
              "      <td>t</td>\n",
              "      <td>t</td>\n",
              "      <td>Manhattan</td>\n",
              "      <td>40.75362</td>\n",
              "      <td>-73.98377</td>\n",
              "      <td>f</td>\n",
              "      <td>Apartment</td>\n",
              "      <td>Entire home/apt</td>\n",
              "      <td>2</td>\n",
              "      <td>1.0</td>\n",
              "      <td>0.0</td>\n",
              "      <td>1.0</td>\n",
              "      <td>Real Bed</td>\n",
              "      <td>{TV,Wifi,\"Air conditioning\",Kitchen,\"Paid park...</td>\n",
              "      <td>NaN</td>\n",
              "      <td>225</td>\n",
              "      <td>$1,995.00</td>\n",
              "      <td>NaN</td>\n",
              "      <td>$350.00</td>\n",
              "      <td>1</td>\n",
              "      <td>$0.00</td>\n",
              "      <td>7</td>\n",
              "      <td>1125</td>\n",
              "      <td>t</td>\n",
              "      <td>4</td>\n",
              "      <td>34</td>\n",
              "      <td>64</td>\n",
              "      <td>339</td>\n",
              "      <td>48</td>\n",
              "      <td>5</td>\n",
              "      <td>94.0</td>\n",
              "      <td>9.0</td>\n",
              "      <td>9.0</td>\n",
              "      <td>10.0</td>\n",
              "      <td>10.0</td>\n",
              "      <td>10.0</td>\n",
              "      <td>9.0</td>\n",
              "      <td>f</td>\n",
              "      <td>NaN</td>\n",
              "      <td>NaN</td>\n",
              "      <td>f</td>\n",
              "      <td>f</td>\n",
              "      <td>strict_14_with_grace_period</td>\n",
              "      <td>t</td>\n",
              "      <td>t</td>\n",
              "      <td>0.38</td>\n",
              "    </tr>\n",
              "    <tr>\n",
              "      <th>2</th>\n",
              "      <td>3831</td>\n",
              "      <td>within an hour</td>\n",
              "      <td>83%</td>\n",
              "      <td>96%</td>\n",
              "      <td>f</td>\n",
              "      <td>1.0</td>\n",
              "      <td>1.0</td>\n",
              "      <td>['email', 'phone', 'reviews', 'kba']</td>\n",
              "      <td>t</td>\n",
              "      <td>t</td>\n",
              "      <td>Brooklyn</td>\n",
              "      <td>40.68514</td>\n",
              "      <td>-73.95976</td>\n",
              "      <td>t</td>\n",
              "      <td>Guest suite</td>\n",
              "      <td>Entire home/apt</td>\n",
              "      <td>3</td>\n",
              "      <td>1.0</td>\n",
              "      <td>1.0</td>\n",
              "      <td>4.0</td>\n",
              "      <td>Real Bed</td>\n",
              "      <td>{TV,\"Cable TV\",Internet,Wifi,\"Air conditioning...</td>\n",
              "      <td>500.0</td>\n",
              "      <td>89</td>\n",
              "      <td>$575.00</td>\n",
              "      <td>$2,100.00</td>\n",
              "      <td>$500.00</td>\n",
              "      <td>1</td>\n",
              "      <td>$0.00</td>\n",
              "      <td>1</td>\n",
              "      <td>730</td>\n",
              "      <td>t</td>\n",
              "      <td>6</td>\n",
              "      <td>10</td>\n",
              "      <td>13</td>\n",
              "      <td>151</td>\n",
              "      <td>313</td>\n",
              "      <td>69</td>\n",
              "      <td>90.0</td>\n",
              "      <td>9.0</td>\n",
              "      <td>9.0</td>\n",
              "      <td>10.0</td>\n",
              "      <td>10.0</td>\n",
              "      <td>10.0</td>\n",
              "      <td>8.0</td>\n",
              "      <td>f</td>\n",
              "      <td>NaN</td>\n",
              "      <td>NaN</td>\n",
              "      <td>f</td>\n",
              "      <td>f</td>\n",
              "      <td>moderate</td>\n",
              "      <td>f</td>\n",
              "      <td>f</td>\n",
              "      <td>4.71</td>\n",
              "    </tr>\n",
              "    <tr>\n",
              "      <th>3</th>\n",
              "      <td>5099</td>\n",
              "      <td>NaN</td>\n",
              "      <td>NaN</td>\n",
              "      <td>71%</td>\n",
              "      <td>f</td>\n",
              "      <td>1.0</td>\n",
              "      <td>1.0</td>\n",
              "      <td>['email', 'phone', 'reviews', 'jumio', 'govern...</td>\n",
              "      <td>t</td>\n",
              "      <td>f</td>\n",
              "      <td>Manhattan</td>\n",
              "      <td>40.74767</td>\n",
              "      <td>-73.97500</td>\n",
              "      <td>f</td>\n",
              "      <td>Apartment</td>\n",
              "      <td>Entire home/apt</td>\n",
              "      <td>2</td>\n",
              "      <td>1.0</td>\n",
              "      <td>1.0</td>\n",
              "      <td>1.0</td>\n",
              "      <td>Real Bed</td>\n",
              "      <td>{TV,\"Cable TV\",Internet,Wifi,\"Air conditioning...</td>\n",
              "      <td>NaN</td>\n",
              "      <td>200</td>\n",
              "      <td>NaN</td>\n",
              "      <td>NaN</td>\n",
              "      <td>$300.00</td>\n",
              "      <td>2</td>\n",
              "      <td>$100.00</td>\n",
              "      <td>3</td>\n",
              "      <td>21</td>\n",
              "      <td>t</td>\n",
              "      <td>0</td>\n",
              "      <td>0</td>\n",
              "      <td>0</td>\n",
              "      <td>0</td>\n",
              "      <td>78</td>\n",
              "      <td>8</td>\n",
              "      <td>90.0</td>\n",
              "      <td>10.0</td>\n",
              "      <td>9.0</td>\n",
              "      <td>10.0</td>\n",
              "      <td>10.0</td>\n",
              "      <td>10.0</td>\n",
              "      <td>9.0</td>\n",
              "      <td>f</td>\n",
              "      <td>NaN</td>\n",
              "      <td>NaN</td>\n",
              "      <td>f</td>\n",
              "      <td>f</td>\n",
              "      <td>moderate</td>\n",
              "      <td>t</td>\n",
              "      <td>t</td>\n",
              "      <td>0.59</td>\n",
              "    </tr>\n",
              "    <tr>\n",
              "      <th>4</th>\n",
              "      <td>5114</td>\n",
              "      <td>within a day</td>\n",
              "      <td>50%</td>\n",
              "      <td>NaN</td>\n",
              "      <td>f</td>\n",
              "      <td>3.0</td>\n",
              "      <td>3.0</td>\n",
              "      <td>['email', 'phone', 'reviews']</td>\n",
              "      <td>t</td>\n",
              "      <td>f</td>\n",
              "      <td>Manhattan</td>\n",
              "      <td>40.71910</td>\n",
              "      <td>-73.99040</td>\n",
              "      <td>t</td>\n",
              "      <td>Apartment</td>\n",
              "      <td>Private room</td>\n",
              "      <td>2</td>\n",
              "      <td>NaN</td>\n",
              "      <td>1.0</td>\n",
              "      <td>1.0</td>\n",
              "      <td>Real Bed</td>\n",
              "      <td>{TV,Internet,Wifi,\"Air conditioning\",Kitchen,E...</td>\n",
              "      <td>NaN</td>\n",
              "      <td>94</td>\n",
              "      <td>NaN</td>\n",
              "      <td>NaN</td>\n",
              "      <td>NaN</td>\n",
              "      <td>1</td>\n",
              "      <td>$13.00</td>\n",
              "      <td>1</td>\n",
              "      <td>730</td>\n",
              "      <td>t</td>\n",
              "      <td>30</td>\n",
              "      <td>60</td>\n",
              "      <td>90</td>\n",
              "      <td>109</td>\n",
              "      <td>75</td>\n",
              "      <td>0</td>\n",
              "      <td>94.0</td>\n",
              "      <td>10.0</td>\n",
              "      <td>10.0</td>\n",
              "      <td>10.0</td>\n",
              "      <td>10.0</td>\n",
              "      <td>10.0</td>\n",
              "      <td>10.0</td>\n",
              "      <td>f</td>\n",
              "      <td>NaN</td>\n",
              "      <td>NaN</td>\n",
              "      <td>f</td>\n",
              "      <td>f</td>\n",
              "      <td>strict_14_with_grace_period</td>\n",
              "      <td>f</td>\n",
              "      <td>f</td>\n",
              "      <td>0.56</td>\n",
              "    </tr>\n",
              "  </tbody>\n",
              "</table>\n",
              "</div>"
            ],
            "text/plain": [
              "     id  host_response_time host_response_rate host_acceptance_rate  \\\n",
              "0  2060  a few days or more                22%                  50%   \n",
              "1  2595        within a day                87%                  38%   \n",
              "2  3831      within an hour                83%                  96%   \n",
              "3  5099                 NaN                NaN                  71%   \n",
              "4  5114        within a day                50%                  NaN   \n",
              "\n",
              "  host_is_superhost  host_listings_count  host_total_listings_count  \\\n",
              "0                 f                  0.0                        0.0   \n",
              "1                 f                  6.0                        6.0   \n",
              "2                 f                  1.0                        1.0   \n",
              "3                 f                  1.0                        1.0   \n",
              "4                 f                  3.0                        3.0   \n",
              "\n",
              "                                  host_verifications host_has_profile_pic  \\\n",
              "0                                        ['reviews']                    t   \n",
              "1  ['email', 'phone', 'reviews', 'offline_governm...                    t   \n",
              "2               ['email', 'phone', 'reviews', 'kba']                    t   \n",
              "3  ['email', 'phone', 'reviews', 'jumio', 'govern...                    t   \n",
              "4                      ['email', 'phone', 'reviews']                    t   \n",
              "\n",
              "  host_identity_verified neighborhood  latitude  longitude is_location_exact  \\\n",
              "0                      f    Manhattan  40.85722  -73.93790                 t   \n",
              "1                      t    Manhattan  40.75362  -73.98377                 f   \n",
              "2                      t     Brooklyn  40.68514  -73.95976                 t   \n",
              "3                      f    Manhattan  40.74767  -73.97500                 f   \n",
              "4                      f    Manhattan  40.71910  -73.99040                 t   \n",
              "\n",
              "  property_type        room_type  accommodates  bathrooms  bedrooms  beds  \\\n",
              "0         Other     Private room             2        NaN       1.0   2.0   \n",
              "1     Apartment  Entire home/apt             2        1.0       0.0   1.0   \n",
              "2   Guest suite  Entire home/apt             3        1.0       1.0   4.0   \n",
              "3     Apartment  Entire home/apt             2        1.0       1.0   1.0   \n",
              "4     Apartment     Private room             2        NaN       1.0   1.0   \n",
              "\n",
              "   bed_type                                          amenities  square_feet  \\\n",
              "0  Real Bed                                    {Internet,Wifi}          NaN   \n",
              "1  Real Bed  {TV,Wifi,\"Air conditioning\",Kitchen,\"Paid park...          NaN   \n",
              "2  Real Bed  {TV,\"Cable TV\",Internet,Wifi,\"Air conditioning...        500.0   \n",
              "3  Real Bed  {TV,\"Cable TV\",Internet,Wifi,\"Air conditioning...          NaN   \n",
              "4  Real Bed  {TV,Internet,Wifi,\"Air conditioning\",Kitchen,E...          NaN   \n",
              "\n",
              "   price weekly_price monthly_price security_deposit  guests_included  \\\n",
              "0    100          NaN           NaN              NaN                1   \n",
              "1    225    $1,995.00           NaN          $350.00                1   \n",
              "2     89      $575.00     $2,100.00          $500.00                1   \n",
              "3    200          NaN           NaN          $300.00                2   \n",
              "4     94          NaN           NaN              NaN                1   \n",
              "\n",
              "  extra_people  minimum_nights  maximum_nights has_availability  \\\n",
              "0        $0.00               1             730                t   \n",
              "1        $0.00               7            1125                t   \n",
              "2        $0.00               1             730                t   \n",
              "3      $100.00               3              21                t   \n",
              "4       $13.00               1             730                t   \n",
              "\n",
              "   availability_30  availability_60  availability_90  availability_365  \\\n",
              "0               30               60               90               365   \n",
              "1                4               34               64               339   \n",
              "2                6               10               13               151   \n",
              "3                0                0                0                 0   \n",
              "4               30               60               90               109   \n",
              "\n",
              "   number_of_reviews  number_of_reviews_ltm  review_scores_rating  \\\n",
              "0                  1                      0                  80.0   \n",
              "1                 48                      5                  94.0   \n",
              "2                313                     69                  90.0   \n",
              "3                 78                      8                  90.0   \n",
              "4                 75                      0                  94.0   \n",
              "\n",
              "   review_scores_accuracy  review_scores_cleanliness  review_scores_checkin  \\\n",
              "0                     NaN                        NaN                    NaN   \n",
              "1                     9.0                        9.0                   10.0   \n",
              "2                     9.0                        9.0                   10.0   \n",
              "3                    10.0                        9.0                   10.0   \n",
              "4                    10.0                       10.0                   10.0   \n",
              "\n",
              "   review_scores_communication  review_scores_location  review_scores_value  \\\n",
              "0                          NaN                     NaN                  NaN   \n",
              "1                         10.0                    10.0                  9.0   \n",
              "2                         10.0                    10.0                  8.0   \n",
              "3                         10.0                    10.0                  9.0   \n",
              "4                         10.0                    10.0                 10.0   \n",
              "\n",
              "  requires_license license jurisdiction_names instant_bookable  \\\n",
              "0                f     NaN                NaN                f   \n",
              "1                f     NaN                NaN                f   \n",
              "2                f     NaN                NaN                f   \n",
              "3                f     NaN                NaN                f   \n",
              "4                f     NaN                NaN                f   \n",
              "\n",
              "  is_business_travel_ready          cancellation_policy  \\\n",
              "0                        f                     flexible   \n",
              "1                        f  strict_14_with_grace_period   \n",
              "2                        f                     moderate   \n",
              "3                        f                     moderate   \n",
              "4                        f  strict_14_with_grace_period   \n",
              "\n",
              "  require_guest_profile_picture require_guest_phone_verification  \\\n",
              "0                             f                                f   \n",
              "1                             t                                t   \n",
              "2                             f                                f   \n",
              "3                             t                                t   \n",
              "4                             f                                f   \n",
              "\n",
              "   reviews_per_month  \n",
              "0               0.01  \n",
              "1               0.38  \n",
              "2               4.71  \n",
              "3               0.59  \n",
              "4               0.56  "
            ]
          },
          "metadata": {
            "tags": []
          },
          "execution_count": 5
        }
      ]
    },
    {
      "cell_type": "markdown",
      "metadata": {
        "id": "bs39AwwafcpA"
      },
      "source": [
        "---\n",
        "### 2) 결측치 확인"
      ]
    },
    {
      "cell_type": "markdown",
      "metadata": {
        "id": "9-IpP0m4fcpA"
      },
      "source": [
        "- #### <font color='orange'> Q2. 각 컬럼의 결측치를 확인하고, 결측치가 많은 순서대로 결측치 비율과 함께 표로 나타내보세요.\n",
        "<font color='orange'> (결측치 0개인 컬럼은 나타내지 마세요)"
      ]
    },
    {
      "cell_type": "code",
      "metadata": {
        "id": "GN2gxJDifcpB",
        "colab": {
          "base_uri": "https://localhost:8080/",
          "height": 1000
        },
        "outputId": "78556143-5145-4faf-b7fe-b0c88101e72e"
      },
      "source": [
        "# Q2\n",
        "df.isnull().sum().to_frame()\n",
        "df.isnull().sum().to_frame() / len(df) *100\n"
      ],
      "execution_count": 8,
      "outputs": [
        {
          "output_type": "execute_result",
          "data": {
            "text/html": [
              "<div>\n",
              "<style scoped>\n",
              "    .dataframe tbody tr th:only-of-type {\n",
              "        vertical-align: middle;\n",
              "    }\n",
              "\n",
              "    .dataframe tbody tr th {\n",
              "        vertical-align: top;\n",
              "    }\n",
              "\n",
              "    .dataframe thead th {\n",
              "        text-align: right;\n",
              "    }\n",
              "</style>\n",
              "<table border=\"1\" class=\"dataframe\">\n",
              "  <thead>\n",
              "    <tr style=\"text-align: right;\">\n",
              "      <th></th>\n",
              "      <th>0</th>\n",
              "    </tr>\n",
              "  </thead>\n",
              "  <tbody>\n",
              "    <tr>\n",
              "      <th>id</th>\n",
              "      <td>0.000000</td>\n",
              "    </tr>\n",
              "    <tr>\n",
              "      <th>host_response_time</th>\n",
              "      <td>37.416332</td>\n",
              "    </tr>\n",
              "    <tr>\n",
              "      <th>host_response_rate</th>\n",
              "      <td>37.416332</td>\n",
              "    </tr>\n",
              "    <tr>\n",
              "      <th>host_acceptance_rate</th>\n",
              "      <td>27.590755</td>\n",
              "    </tr>\n",
              "    <tr>\n",
              "      <th>host_is_superhost</th>\n",
              "      <td>0.009843</td>\n",
              "    </tr>\n",
              "    <tr>\n",
              "      <th>host_listings_count</th>\n",
              "      <td>0.009843</td>\n",
              "    </tr>\n",
              "    <tr>\n",
              "      <th>host_total_listings_count</th>\n",
              "      <td>0.009843</td>\n",
              "    </tr>\n",
              "    <tr>\n",
              "      <th>host_verifications</th>\n",
              "      <td>0.000000</td>\n",
              "    </tr>\n",
              "    <tr>\n",
              "      <th>host_has_profile_pic</th>\n",
              "      <td>0.009843</td>\n",
              "    </tr>\n",
              "    <tr>\n",
              "      <th>host_identity_verified</th>\n",
              "      <td>0.009843</td>\n",
              "    </tr>\n",
              "    <tr>\n",
              "      <th>neighborhood</th>\n",
              "      <td>0.000000</td>\n",
              "    </tr>\n",
              "    <tr>\n",
              "      <th>latitude</th>\n",
              "      <td>0.000000</td>\n",
              "    </tr>\n",
              "    <tr>\n",
              "      <th>longitude</th>\n",
              "      <td>0.000000</td>\n",
              "    </tr>\n",
              "    <tr>\n",
              "      <th>is_location_exact</th>\n",
              "      <td>0.000000</td>\n",
              "    </tr>\n",
              "    <tr>\n",
              "      <th>property_type</th>\n",
              "      <td>0.000000</td>\n",
              "    </tr>\n",
              "    <tr>\n",
              "      <th>room_type</th>\n",
              "      <td>0.000000</td>\n",
              "    </tr>\n",
              "    <tr>\n",
              "      <th>accommodates</th>\n",
              "      <td>0.000000</td>\n",
              "    </tr>\n",
              "    <tr>\n",
              "      <th>bathrooms</th>\n",
              "      <td>0.106308</td>\n",
              "    </tr>\n",
              "    <tr>\n",
              "      <th>bedrooms</th>\n",
              "      <td>0.151587</td>\n",
              "    </tr>\n",
              "    <tr>\n",
              "      <th>beds</th>\n",
              "      <td>0.948894</td>\n",
              "    </tr>\n",
              "    <tr>\n",
              "      <th>bed_type</th>\n",
              "      <td>0.000000</td>\n",
              "    </tr>\n",
              "    <tr>\n",
              "      <th>amenities</th>\n",
              "      <td>0.000000</td>\n",
              "    </tr>\n",
              "    <tr>\n",
              "      <th>square_feet</th>\n",
              "      <td>99.234192</td>\n",
              "    </tr>\n",
              "    <tr>\n",
              "      <th>price</th>\n",
              "      <td>0.000000</td>\n",
              "    </tr>\n",
              "    <tr>\n",
              "      <th>weekly_price</th>\n",
              "      <td>89.398772</td>\n",
              "    </tr>\n",
              "    <tr>\n",
              "      <th>monthly_price</th>\n",
              "      <td>90.792582</td>\n",
              "    </tr>\n",
              "    <tr>\n",
              "      <th>security_deposit</th>\n",
              "      <td>34.107016</td>\n",
              "    </tr>\n",
              "    <tr>\n",
              "      <th>guests_included</th>\n",
              "      <td>0.000000</td>\n",
              "    </tr>\n",
              "    <tr>\n",
              "      <th>extra_people</th>\n",
              "      <td>0.000000</td>\n",
              "    </tr>\n",
              "    <tr>\n",
              "      <th>minimum_nights</th>\n",
              "      <td>0.000000</td>\n",
              "    </tr>\n",
              "    <tr>\n",
              "      <th>maximum_nights</th>\n",
              "      <td>0.000000</td>\n",
              "    </tr>\n",
              "    <tr>\n",
              "      <th>has_availability</th>\n",
              "      <td>0.000000</td>\n",
              "    </tr>\n",
              "    <tr>\n",
              "      <th>availability_30</th>\n",
              "      <td>0.000000</td>\n",
              "    </tr>\n",
              "    <tr>\n",
              "      <th>availability_60</th>\n",
              "      <td>0.000000</td>\n",
              "    </tr>\n",
              "    <tr>\n",
              "      <th>availability_90</th>\n",
              "      <td>0.000000</td>\n",
              "    </tr>\n",
              "    <tr>\n",
              "      <th>availability_365</th>\n",
              "      <td>0.000000</td>\n",
              "    </tr>\n",
              "    <tr>\n",
              "      <th>number_of_reviews</th>\n",
              "      <td>0.000000</td>\n",
              "    </tr>\n",
              "    <tr>\n",
              "      <th>number_of_reviews_ltm</th>\n",
              "      <td>0.000000</td>\n",
              "    </tr>\n",
              "    <tr>\n",
              "      <th>review_scores_rating</th>\n",
              "      <td>22.503740</td>\n",
              "    </tr>\n",
              "    <tr>\n",
              "      <th>review_scores_accuracy</th>\n",
              "      <td>22.572644</td>\n",
              "    </tr>\n",
              "    <tr>\n",
              "      <th>review_scores_cleanliness</th>\n",
              "      <td>22.545082</td>\n",
              "    </tr>\n",
              "    <tr>\n",
              "      <th>review_scores_checkin</th>\n",
              "      <td>22.598236</td>\n",
              "    </tr>\n",
              "    <tr>\n",
              "      <th>review_scores_communication</th>\n",
              "      <td>22.566738</td>\n",
              "    </tr>\n",
              "    <tr>\n",
              "      <th>review_scores_location</th>\n",
              "      <td>22.604142</td>\n",
              "    </tr>\n",
              "    <tr>\n",
              "      <th>review_scores_value</th>\n",
              "      <td>22.604142</td>\n",
              "    </tr>\n",
              "    <tr>\n",
              "      <th>requires_license</th>\n",
              "      <td>0.000000</td>\n",
              "    </tr>\n",
              "    <tr>\n",
              "      <th>license</th>\n",
              "      <td>99.927160</td>\n",
              "    </tr>\n",
              "    <tr>\n",
              "      <th>jurisdiction_names</th>\n",
              "      <td>99.970470</td>\n",
              "    </tr>\n",
              "    <tr>\n",
              "      <th>instant_bookable</th>\n",
              "      <td>0.000000</td>\n",
              "    </tr>\n",
              "    <tr>\n",
              "      <th>is_business_travel_ready</th>\n",
              "      <td>0.000000</td>\n",
              "    </tr>\n",
              "    <tr>\n",
              "      <th>cancellation_policy</th>\n",
              "      <td>0.000000</td>\n",
              "    </tr>\n",
              "    <tr>\n",
              "      <th>require_guest_profile_picture</th>\n",
              "      <td>0.000000</td>\n",
              "    </tr>\n",
              "    <tr>\n",
              "      <th>require_guest_phone_verification</th>\n",
              "      <td>0.000000</td>\n",
              "    </tr>\n",
              "    <tr>\n",
              "      <th>reviews_per_month</th>\n",
              "      <td>20.578392</td>\n",
              "    </tr>\n",
              "  </tbody>\n",
              "</table>\n",
              "</div>"
            ],
            "text/plain": [
              "                                          0\n",
              "id                                 0.000000\n",
              "host_response_time                37.416332\n",
              "host_response_rate                37.416332\n",
              "host_acceptance_rate              27.590755\n",
              "host_is_superhost                  0.009843\n",
              "host_listings_count                0.009843\n",
              "host_total_listings_count          0.009843\n",
              "host_verifications                 0.000000\n",
              "host_has_profile_pic               0.009843\n",
              "host_identity_verified             0.009843\n",
              "neighborhood                       0.000000\n",
              "latitude                           0.000000\n",
              "longitude                          0.000000\n",
              "is_location_exact                  0.000000\n",
              "property_type                      0.000000\n",
              "room_type                          0.000000\n",
              "accommodates                       0.000000\n",
              "bathrooms                          0.106308\n",
              "bedrooms                           0.151587\n",
              "beds                               0.948894\n",
              "bed_type                           0.000000\n",
              "amenities                          0.000000\n",
              "square_feet                       99.234192\n",
              "price                              0.000000\n",
              "weekly_price                      89.398772\n",
              "monthly_price                     90.792582\n",
              "security_deposit                  34.107016\n",
              "guests_included                    0.000000\n",
              "extra_people                       0.000000\n",
              "minimum_nights                     0.000000\n",
              "maximum_nights                     0.000000\n",
              "has_availability                   0.000000\n",
              "availability_30                    0.000000\n",
              "availability_60                    0.000000\n",
              "availability_90                    0.000000\n",
              "availability_365                   0.000000\n",
              "number_of_reviews                  0.000000\n",
              "number_of_reviews_ltm              0.000000\n",
              "review_scores_rating              22.503740\n",
              "review_scores_accuracy            22.572644\n",
              "review_scores_cleanliness         22.545082\n",
              "review_scores_checkin             22.598236\n",
              "review_scores_communication       22.566738\n",
              "review_scores_location            22.604142\n",
              "review_scores_value               22.604142\n",
              "requires_license                   0.000000\n",
              "license                           99.927160\n",
              "jurisdiction_names                99.970470\n",
              "instant_bookable                   0.000000\n",
              "is_business_travel_ready           0.000000\n",
              "cancellation_policy                0.000000\n",
              "require_guest_profile_picture      0.000000\n",
              "require_guest_phone_verification   0.000000\n",
              "reviews_per_month                 20.578392"
            ]
          },
          "metadata": {
            "tags": []
          },
          "execution_count": 8
        }
      ]
    },
    {
      "cell_type": "markdown",
      "metadata": {
        "id": "87TiQRKbfcpE"
      },
      "source": [
        "- #### <font color='orange'> Q3. 결측치가 있는 컬럼과 결측치 비율을 보기쉽게 그래프로 나타내 보세요."
      ]
    },
    {
      "cell_type": "markdown",
      "metadata": {
        "id": "NQhe9aDrM2d9"
      },
      "source": [
        ""
      ]
    },
    {
      "cell_type": "code",
      "metadata": {
        "id": "1PVB7F3yfcpE",
        "colab": {
          "base_uri": "https://localhost:8080/",
          "height": 51
        },
        "outputId": "06ed7ce6-bebe-47f8-8be3-c8000b311344"
      },
      "source": [
        "# Q3\n",
        "plt.figure(figsize = (15,4))"
      ],
      "execution_count": null,
      "outputs": [
        {
          "output_type": "execute_result",
          "data": {
            "text/plain": [
              "<Figure size 1080x288 with 0 Axes>"
            ]
          },
          "metadata": {
            "tags": []
          },
          "execution_count": 14
        },
        {
          "output_type": "display_data",
          "data": {
            "text/plain": [
              "<Figure size 1080x288 with 0 Axes>"
            ]
          },
          "metadata": {
            "tags": []
          }
        }
      ]
    },
    {
      "cell_type": "markdown",
      "metadata": {
        "id": "D8Xr7__1fcpI"
      },
      "source": [
        "- #### <font color='orange'> Q4. 결측치가 적은 beds 컬럼을 좀 더 자세히 살펴보겠습니다. \n",
        "  #### <font color='orange'> 'beds' 컬럼이 결측치인 데이터의 상위 5개를 출력해주세요."
      ]
    },
    {
      "cell_type": "code",
      "metadata": {
        "id": "52-Do2c_fcpJ",
        "colab": {
          "base_uri": "https://localhost:8080/",
          "height": 343
        },
        "outputId": "e6323f11-5833-4f31-9528-83805b8670f6"
      },
      "source": [
        "# Q4\n",
        "df[df['beds'].isnull()].head()"
      ],
      "execution_count": null,
      "outputs": [
        {
          "output_type": "execute_result",
          "data": {
            "text/html": [
              "<div>\n",
              "<style scoped>\n",
              "    .dataframe tbody tr th:only-of-type {\n",
              "        vertical-align: middle;\n",
              "    }\n",
              "\n",
              "    .dataframe tbody tr th {\n",
              "        vertical-align: top;\n",
              "    }\n",
              "\n",
              "    .dataframe thead th {\n",
              "        text-align: right;\n",
              "    }\n",
              "</style>\n",
              "<table border=\"1\" class=\"dataframe\">\n",
              "  <thead>\n",
              "    <tr style=\"text-align: right;\">\n",
              "      <th></th>\n",
              "      <th>id</th>\n",
              "      <th>host_response_time</th>\n",
              "      <th>host_response_rate</th>\n",
              "      <th>host_acceptance_rate</th>\n",
              "      <th>host_is_superhost</th>\n",
              "      <th>host_listings_count</th>\n",
              "      <th>host_total_listings_count</th>\n",
              "      <th>host_verifications</th>\n",
              "      <th>host_has_profile_pic</th>\n",
              "      <th>host_identity_verified</th>\n",
              "      <th>neighborhood</th>\n",
              "      <th>latitude</th>\n",
              "      <th>longitude</th>\n",
              "      <th>is_location_exact</th>\n",
              "      <th>property_type</th>\n",
              "      <th>room_type</th>\n",
              "      <th>accommodates</th>\n",
              "      <th>bathrooms</th>\n",
              "      <th>bedrooms</th>\n",
              "      <th>beds</th>\n",
              "      <th>bed_type</th>\n",
              "      <th>amenities</th>\n",
              "      <th>square_feet</th>\n",
              "      <th>price</th>\n",
              "      <th>weekly_price</th>\n",
              "      <th>monthly_price</th>\n",
              "      <th>security_deposit</th>\n",
              "      <th>guests_included</th>\n",
              "      <th>extra_people</th>\n",
              "      <th>minimum_nights</th>\n",
              "      <th>maximum_nights</th>\n",
              "      <th>has_availability</th>\n",
              "      <th>availability_30</th>\n",
              "      <th>availability_60</th>\n",
              "      <th>availability_90</th>\n",
              "      <th>availability_365</th>\n",
              "      <th>number_of_reviews</th>\n",
              "      <th>number_of_reviews_ltm</th>\n",
              "      <th>review_scores_rating</th>\n",
              "      <th>review_scores_accuracy</th>\n",
              "      <th>review_scores_cleanliness</th>\n",
              "      <th>review_scores_checkin</th>\n",
              "      <th>review_scores_communication</th>\n",
              "      <th>review_scores_location</th>\n",
              "      <th>review_scores_value</th>\n",
              "      <th>requires_license</th>\n",
              "      <th>license</th>\n",
              "      <th>jurisdiction_names</th>\n",
              "      <th>instant_bookable</th>\n",
              "      <th>is_business_travel_ready</th>\n",
              "      <th>cancellation_policy</th>\n",
              "      <th>require_guest_profile_picture</th>\n",
              "      <th>require_guest_phone_verification</th>\n",
              "      <th>reviews_per_month</th>\n",
              "    </tr>\n",
              "  </thead>\n",
              "  <tbody>\n",
              "    <tr>\n",
              "      <th>808</th>\n",
              "      <td>321845</td>\n",
              "      <td>NaN</td>\n",
              "      <td>NaN</td>\n",
              "      <td>NaN</td>\n",
              "      <td>f</td>\n",
              "      <td>0.0</td>\n",
              "      <td>0.0</td>\n",
              "      <td>['email']</td>\n",
              "      <td>t</td>\n",
              "      <td>f</td>\n",
              "      <td>Manhattan</td>\n",
              "      <td>40.70850</td>\n",
              "      <td>-74.01795</td>\n",
              "      <td>t</td>\n",
              "      <td>Apartment</td>\n",
              "      <td>Private room</td>\n",
              "      <td>2</td>\n",
              "      <td>NaN</td>\n",
              "      <td>1.0</td>\n",
              "      <td>NaN</td>\n",
              "      <td>Real Bed</td>\n",
              "      <td>{}</td>\n",
              "      <td>NaN</td>\n",
              "      <td>150</td>\n",
              "      <td>$500.00</td>\n",
              "      <td>$1,600.00</td>\n",
              "      <td>NaN</td>\n",
              "      <td>1</td>\n",
              "      <td>$0.00</td>\n",
              "      <td>1</td>\n",
              "      <td>1125</td>\n",
              "      <td>t</td>\n",
              "      <td>30</td>\n",
              "      <td>60</td>\n",
              "      <td>90</td>\n",
              "      <td>365</td>\n",
              "      <td>0</td>\n",
              "      <td>0</td>\n",
              "      <td>NaN</td>\n",
              "      <td>NaN</td>\n",
              "      <td>NaN</td>\n",
              "      <td>NaN</td>\n",
              "      <td>NaN</td>\n",
              "      <td>NaN</td>\n",
              "      <td>NaN</td>\n",
              "      <td>f</td>\n",
              "      <td>NaN</td>\n",
              "      <td>NaN</td>\n",
              "      <td>f</td>\n",
              "      <td>f</td>\n",
              "      <td>strict_14_with_grace_period</td>\n",
              "      <td>f</td>\n",
              "      <td>f</td>\n",
              "      <td>NaN</td>\n",
              "    </tr>\n",
              "    <tr>\n",
              "      <th>1002</th>\n",
              "      <td>468613</td>\n",
              "      <td>NaN</td>\n",
              "      <td>NaN</td>\n",
              "      <td>NaN</td>\n",
              "      <td>f</td>\n",
              "      <td>1.0</td>\n",
              "      <td>1.0</td>\n",
              "      <td>['email', 'phone', 'facebook', 'reviews', 'kba']</td>\n",
              "      <td>t</td>\n",
              "      <td>t</td>\n",
              "      <td>Manhattan</td>\n",
              "      <td>40.72152</td>\n",
              "      <td>-73.99279</td>\n",
              "      <td>t</td>\n",
              "      <td>Apartment</td>\n",
              "      <td>Private room</td>\n",
              "      <td>1</td>\n",
              "      <td>NaN</td>\n",
              "      <td>1.0</td>\n",
              "      <td>NaN</td>\n",
              "      <td>Real Bed</td>\n",
              "      <td>{}</td>\n",
              "      <td>NaN</td>\n",
              "      <td>1300</td>\n",
              "      <td>NaN</td>\n",
              "      <td>NaN</td>\n",
              "      <td>NaN</td>\n",
              "      <td>1</td>\n",
              "      <td>$0.00</td>\n",
              "      <td>1</td>\n",
              "      <td>1125</td>\n",
              "      <td>t</td>\n",
              "      <td>0</td>\n",
              "      <td>0</td>\n",
              "      <td>0</td>\n",
              "      <td>0</td>\n",
              "      <td>0</td>\n",
              "      <td>0</td>\n",
              "      <td>NaN</td>\n",
              "      <td>NaN</td>\n",
              "      <td>NaN</td>\n",
              "      <td>NaN</td>\n",
              "      <td>NaN</td>\n",
              "      <td>NaN</td>\n",
              "      <td>NaN</td>\n",
              "      <td>f</td>\n",
              "      <td>NaN</td>\n",
              "      <td>NaN</td>\n",
              "      <td>f</td>\n",
              "      <td>f</td>\n",
              "      <td>flexible</td>\n",
              "      <td>f</td>\n",
              "      <td>f</td>\n",
              "      <td>NaN</td>\n",
              "    </tr>\n",
              "    <tr>\n",
              "      <th>1058</th>\n",
              "      <td>499249</td>\n",
              "      <td>NaN</td>\n",
              "      <td>NaN</td>\n",
              "      <td>0%</td>\n",
              "      <td>f</td>\n",
              "      <td>1.0</td>\n",
              "      <td>1.0</td>\n",
              "      <td>['email', 'phone', 'reviews', 'offline_governm...</td>\n",
              "      <td>t</td>\n",
              "      <td>f</td>\n",
              "      <td>Brooklyn</td>\n",
              "      <td>40.70528</td>\n",
              "      <td>-73.95756</td>\n",
              "      <td>t</td>\n",
              "      <td>Apartment</td>\n",
              "      <td>Private room</td>\n",
              "      <td>1</td>\n",
              "      <td>NaN</td>\n",
              "      <td>1.0</td>\n",
              "      <td>NaN</td>\n",
              "      <td>Real Bed</td>\n",
              "      <td>{}</td>\n",
              "      <td>NaN</td>\n",
              "      <td>190</td>\n",
              "      <td>NaN</td>\n",
              "      <td>NaN</td>\n",
              "      <td>$0.00</td>\n",
              "      <td>1</td>\n",
              "      <td>$100.00</td>\n",
              "      <td>1</td>\n",
              "      <td>218</td>\n",
              "      <td>t</td>\n",
              "      <td>30</td>\n",
              "      <td>60</td>\n",
              "      <td>90</td>\n",
              "      <td>365</td>\n",
              "      <td>1</td>\n",
              "      <td>0</td>\n",
              "      <td>NaN</td>\n",
              "      <td>10.0</td>\n",
              "      <td>8.0</td>\n",
              "      <td>10.0</td>\n",
              "      <td>10.0</td>\n",
              "      <td>10.0</td>\n",
              "      <td>10.0</td>\n",
              "      <td>f</td>\n",
              "      <td>NaN</td>\n",
              "      <td>NaN</td>\n",
              "      <td>t</td>\n",
              "      <td>f</td>\n",
              "      <td>strict_14_with_grace_period</td>\n",
              "      <td>f</td>\n",
              "      <td>f</td>\n",
              "      <td>0.01</td>\n",
              "    </tr>\n",
              "    <tr>\n",
              "      <th>1074</th>\n",
              "      <td>505231</td>\n",
              "      <td>NaN</td>\n",
              "      <td>NaN</td>\n",
              "      <td>NaN</td>\n",
              "      <td>f</td>\n",
              "      <td>1.0</td>\n",
              "      <td>1.0</td>\n",
              "      <td>['email', 'phone', 'reviews']</td>\n",
              "      <td>t</td>\n",
              "      <td>f</td>\n",
              "      <td>Manhattan</td>\n",
              "      <td>40.77799</td>\n",
              "      <td>-73.95223</td>\n",
              "      <td>t</td>\n",
              "      <td>Apartment</td>\n",
              "      <td>Private room</td>\n",
              "      <td>1</td>\n",
              "      <td>NaN</td>\n",
              "      <td>1.0</td>\n",
              "      <td>NaN</td>\n",
              "      <td>Real Bed</td>\n",
              "      <td>{}</td>\n",
              "      <td>NaN</td>\n",
              "      <td>80</td>\n",
              "      <td>$700.00</td>\n",
              "      <td>$3,000.00</td>\n",
              "      <td>NaN</td>\n",
              "      <td>1</td>\n",
              "      <td>$0.00</td>\n",
              "      <td>1</td>\n",
              "      <td>60</td>\n",
              "      <td>t</td>\n",
              "      <td>0</td>\n",
              "      <td>0</td>\n",
              "      <td>0</td>\n",
              "      <td>0</td>\n",
              "      <td>1</td>\n",
              "      <td>0</td>\n",
              "      <td>100.0</td>\n",
              "      <td>10.0</td>\n",
              "      <td>10.0</td>\n",
              "      <td>10.0</td>\n",
              "      <td>10.0</td>\n",
              "      <td>10.0</td>\n",
              "      <td>10.0</td>\n",
              "      <td>f</td>\n",
              "      <td>NaN</td>\n",
              "      <td>NaN</td>\n",
              "      <td>f</td>\n",
              "      <td>f</td>\n",
              "      <td>moderate</td>\n",
              "      <td>f</td>\n",
              "      <td>f</td>\n",
              "      <td>0.01</td>\n",
              "    </tr>\n",
              "    <tr>\n",
              "      <th>1208</th>\n",
              "      <td>587519</td>\n",
              "      <td>NaN</td>\n",
              "      <td>NaN</td>\n",
              "      <td>0%</td>\n",
              "      <td>f</td>\n",
              "      <td>1.0</td>\n",
              "      <td>1.0</td>\n",
              "      <td>['email', 'phone', 'facebook', 'reviews']</td>\n",
              "      <td>t</td>\n",
              "      <td>f</td>\n",
              "      <td>Brooklyn</td>\n",
              "      <td>40.71099</td>\n",
              "      <td>-73.95217</td>\n",
              "      <td>t</td>\n",
              "      <td>Apartment</td>\n",
              "      <td>Private room</td>\n",
              "      <td>1</td>\n",
              "      <td>1.0</td>\n",
              "      <td>1.0</td>\n",
              "      <td>NaN</td>\n",
              "      <td>Real Bed</td>\n",
              "      <td>{}</td>\n",
              "      <td>NaN</td>\n",
              "      <td>48</td>\n",
              "      <td>NaN</td>\n",
              "      <td>NaN</td>\n",
              "      <td>NaN</td>\n",
              "      <td>1</td>\n",
              "      <td>$0.00</td>\n",
              "      <td>5</td>\n",
              "      <td>30</td>\n",
              "      <td>t</td>\n",
              "      <td>0</td>\n",
              "      <td>0</td>\n",
              "      <td>0</td>\n",
              "      <td>0</td>\n",
              "      <td>1</td>\n",
              "      <td>0</td>\n",
              "      <td>80.0</td>\n",
              "      <td>6.0</td>\n",
              "      <td>6.0</td>\n",
              "      <td>10.0</td>\n",
              "      <td>10.0</td>\n",
              "      <td>10.0</td>\n",
              "      <td>6.0</td>\n",
              "      <td>f</td>\n",
              "      <td>NaN</td>\n",
              "      <td>NaN</td>\n",
              "      <td>f</td>\n",
              "      <td>f</td>\n",
              "      <td>flexible</td>\n",
              "      <td>f</td>\n",
              "      <td>f</td>\n",
              "      <td>0.02</td>\n",
              "    </tr>\n",
              "  </tbody>\n",
              "</table>\n",
              "</div>"
            ],
            "text/plain": [
              "          id host_response_time host_response_rate host_acceptance_rate  \\\n",
              "808   321845                NaN                NaN                  NaN   \n",
              "1002  468613                NaN                NaN                  NaN   \n",
              "1058  499249                NaN                NaN                   0%   \n",
              "1074  505231                NaN                NaN                  NaN   \n",
              "1208  587519                NaN                NaN                   0%   \n",
              "\n",
              "     host_is_superhost  host_listings_count  host_total_listings_count  \\\n",
              "808                  f                  0.0                        0.0   \n",
              "1002                 f                  1.0                        1.0   \n",
              "1058                 f                  1.0                        1.0   \n",
              "1074                 f                  1.0                        1.0   \n",
              "1208                 f                  1.0                        1.0   \n",
              "\n",
              "                                     host_verifications host_has_profile_pic  \\\n",
              "808                                           ['email']                    t   \n",
              "1002   ['email', 'phone', 'facebook', 'reviews', 'kba']                    t   \n",
              "1058  ['email', 'phone', 'reviews', 'offline_governm...                    t   \n",
              "1074                      ['email', 'phone', 'reviews']                    t   \n",
              "1208          ['email', 'phone', 'facebook', 'reviews']                    t   \n",
              "\n",
              "     host_identity_verified neighborhood  latitude  longitude  \\\n",
              "808                       f    Manhattan  40.70850  -74.01795   \n",
              "1002                      t    Manhattan  40.72152  -73.99279   \n",
              "1058                      f     Brooklyn  40.70528  -73.95756   \n",
              "1074                      f    Manhattan  40.77799  -73.95223   \n",
              "1208                      f     Brooklyn  40.71099  -73.95217   \n",
              "\n",
              "     is_location_exact property_type     room_type  accommodates  bathrooms  \\\n",
              "808                  t     Apartment  Private room             2        NaN   \n",
              "1002                 t     Apartment  Private room             1        NaN   \n",
              "1058                 t     Apartment  Private room             1        NaN   \n",
              "1074                 t     Apartment  Private room             1        NaN   \n",
              "1208                 t     Apartment  Private room             1        1.0   \n",
              "\n",
              "      bedrooms  beds  bed_type amenities  square_feet  price weekly_price  \\\n",
              "808        1.0   NaN  Real Bed        {}          NaN    150      $500.00   \n",
              "1002       1.0   NaN  Real Bed        {}          NaN   1300          NaN   \n",
              "1058       1.0   NaN  Real Bed        {}          NaN    190          NaN   \n",
              "1074       1.0   NaN  Real Bed        {}          NaN     80      $700.00   \n",
              "1208       1.0   NaN  Real Bed        {}          NaN     48          NaN   \n",
              "\n",
              "     monthly_price security_deposit  guests_included extra_people  \\\n",
              "808      $1,600.00              NaN                1        $0.00   \n",
              "1002           NaN              NaN                1        $0.00   \n",
              "1058           NaN            $0.00                1      $100.00   \n",
              "1074     $3,000.00              NaN                1        $0.00   \n",
              "1208           NaN              NaN                1        $0.00   \n",
              "\n",
              "      minimum_nights  maximum_nights has_availability  availability_30  \\\n",
              "808                1            1125                t               30   \n",
              "1002               1            1125                t                0   \n",
              "1058               1             218                t               30   \n",
              "1074               1              60                t                0   \n",
              "1208               5              30                t                0   \n",
              "\n",
              "      availability_60  availability_90  availability_365  number_of_reviews  \\\n",
              "808                60               90               365                  0   \n",
              "1002                0                0                 0                  0   \n",
              "1058               60               90               365                  1   \n",
              "1074                0                0                 0                  1   \n",
              "1208                0                0                 0                  1   \n",
              "\n",
              "      number_of_reviews_ltm  review_scores_rating  review_scores_accuracy  \\\n",
              "808                       0                   NaN                     NaN   \n",
              "1002                      0                   NaN                     NaN   \n",
              "1058                      0                   NaN                    10.0   \n",
              "1074                      0                 100.0                    10.0   \n",
              "1208                      0                  80.0                     6.0   \n",
              "\n",
              "      review_scores_cleanliness  review_scores_checkin  \\\n",
              "808                         NaN                    NaN   \n",
              "1002                        NaN                    NaN   \n",
              "1058                        8.0                   10.0   \n",
              "1074                       10.0                   10.0   \n",
              "1208                        6.0                   10.0   \n",
              "\n",
              "      review_scores_communication  review_scores_location  \\\n",
              "808                           NaN                     NaN   \n",
              "1002                          NaN                     NaN   \n",
              "1058                         10.0                    10.0   \n",
              "1074                         10.0                    10.0   \n",
              "1208                         10.0                    10.0   \n",
              "\n",
              "      review_scores_value requires_license license jurisdiction_names  \\\n",
              "808                   NaN                f     NaN                NaN   \n",
              "1002                  NaN                f     NaN                NaN   \n",
              "1058                 10.0                f     NaN                NaN   \n",
              "1074                 10.0                f     NaN                NaN   \n",
              "1208                  6.0                f     NaN                NaN   \n",
              "\n",
              "     instant_bookable is_business_travel_ready          cancellation_policy  \\\n",
              "808                 f                        f  strict_14_with_grace_period   \n",
              "1002                f                        f                     flexible   \n",
              "1058                t                        f  strict_14_with_grace_period   \n",
              "1074                f                        f                     moderate   \n",
              "1208                f                        f                     flexible   \n",
              "\n",
              "     require_guest_profile_picture require_guest_phone_verification  \\\n",
              "808                              f                                f   \n",
              "1002                             f                                f   \n",
              "1058                             f                                f   \n",
              "1074                             f                                f   \n",
              "1208                             f                                f   \n",
              "\n",
              "      reviews_per_month  \n",
              "808                 NaN  \n",
              "1002                NaN  \n",
              "1058               0.01  \n",
              "1074               0.01  \n",
              "1208               0.02  "
            ]
          },
          "metadata": {
            "tags": []
          },
          "execution_count": 17
        }
      ]
    },
    {
      "cell_type": "markdown",
      "metadata": {
        "id": "aG4VKbWVfcpM"
      },
      "source": [
        "---\n",
        "### 3) 범주형 변수 확인\n",
        "<font color='gray'> - 편의를 위해 결측치가 있는 컬럼을 모두 제거하고 진행하겠습니다."
      ]
    },
    {
      "cell_type": "code",
      "metadata": {
        "id": "82BUbKO1fcpM"
      },
      "source": [
        "drop_col = ['jurisdiction_names', 'license', 'square_feet', 'monthly_price',\n",
        "       'weekly_price', 'host_response_rate', 'host_response_time',\n",
        "       'security_deposit', 'host_acceptance_rate', 'review_scores_location',\n",
        "       'review_scores_value', 'review_scores_checkin',\n",
        "       'review_scores_accuracy', 'review_scores_communication',\n",
        "       'review_scores_cleanliness', 'review_scores_rating',\n",
        "       'reviews_per_month', 'beds']"
      ],
      "execution_count": null,
      "outputs": []
    },
    {
      "cell_type": "code",
      "metadata": {
        "id": "pgWTlyZ0fcpO"
      },
      "source": [
        "df = df.drop(columns=drop_col)"
      ],
      "execution_count": null,
      "outputs": []
    },
    {
      "cell_type": "markdown",
      "metadata": {
        "id": "9uEFs_yxfcpR"
      },
      "source": [
        "- #### 각 컬럼별 변수 타입 확인"
      ]
    },
    {
      "cell_type": "code",
      "metadata": {
        "id": "C52vx5OEfcpR",
        "colab": {
          "base_uri": "https://localhost:8080/"
        },
        "outputId": "8ebca8bd-2c96-4296-ee3b-75fa23b367ea"
      },
      "source": [
        "df.info()"
      ],
      "execution_count": null,
      "outputs": [
        {
          "output_type": "stream",
          "text": [
            "<class 'pandas.core.frame.DataFrame'>\n",
            "Int64Index: 50796 entries, 0 to 50795\n",
            "Data columns (total 36 columns):\n",
            " #   Column                            Non-Null Count  Dtype  \n",
            "---  ------                            --------------  -----  \n",
            " 0   id                                50796 non-null  int64  \n",
            " 1   host_is_superhost                 50791 non-null  object \n",
            " 2   host_listings_count               50791 non-null  float64\n",
            " 3   host_total_listings_count         50791 non-null  float64\n",
            " 4   host_verifications                50796 non-null  object \n",
            " 5   host_has_profile_pic              50791 non-null  object \n",
            " 6   host_identity_verified            50791 non-null  object \n",
            " 7   neighborhood                      50796 non-null  object \n",
            " 8   latitude                          50796 non-null  float64\n",
            " 9   longitude                         50796 non-null  float64\n",
            " 10  is_location_exact                 50796 non-null  object \n",
            " 11  property_type                     50796 non-null  object \n",
            " 12  room_type                         50796 non-null  object \n",
            " 13  accommodates                      50796 non-null  int64  \n",
            " 14  bathrooms                         50742 non-null  float64\n",
            " 15  bedrooms                          50719 non-null  float64\n",
            " 16  bed_type                          50796 non-null  object \n",
            " 17  amenities                         50796 non-null  object \n",
            " 18  price                             50796 non-null  int64  \n",
            " 19  guests_included                   50796 non-null  int64  \n",
            " 20  extra_people                      50796 non-null  object \n",
            " 21  minimum_nights                    50796 non-null  int64  \n",
            " 22  maximum_nights                    50796 non-null  int64  \n",
            " 23  has_availability                  50796 non-null  object \n",
            " 24  availability_30                   50796 non-null  int64  \n",
            " 25  availability_60                   50796 non-null  int64  \n",
            " 26  availability_90                   50796 non-null  int64  \n",
            " 27  availability_365                  50796 non-null  int64  \n",
            " 28  number_of_reviews                 50796 non-null  int64  \n",
            " 29  number_of_reviews_ltm             50796 non-null  int64  \n",
            " 30  requires_license                  50796 non-null  object \n",
            " 31  instant_bookable                  50796 non-null  object \n",
            " 32  is_business_travel_ready          50796 non-null  object \n",
            " 33  cancellation_policy               50796 non-null  object \n",
            " 34  require_guest_profile_picture     50796 non-null  object \n",
            " 35  require_guest_phone_verification  50796 non-null  object \n",
            "dtypes: float64(6), int64(12), object(18)\n",
            "memory usage: 14.3+ MB\n"
          ],
          "name": "stdout"
        }
      ]
    },
    {
      "cell_type": "markdown",
      "metadata": {
        "id": "wmmKNpDffcpT"
      },
      "source": [
        "- #### <font color='orange'> Q5. Room Type 에는 어떤 것들이 있는지 살펴보겠습니다. \n",
        "#### <font color='orange'> room_type의 종류별 갯수에 대한 그래프를 그려주세요."
      ]
    },
    {
      "cell_type": "code",
      "metadata": {
        "id": "L5NgpaZAfcpU",
        "colab": {
          "base_uri": "https://localhost:8080/",
          "height": 353
        },
        "outputId": "4671102f-62a1-4afc-c39a-097146cba423"
      },
      "source": [
        "# Q5\n",
        "room_type_gr = df.value_counts(df[\"room_type\"].values, sort=True)\n",
        "room_type_gr.plot.bar()\n",
        "room_type_gr.plot.bar()\n"
      ],
      "execution_count": null,
      "outputs": [
        {
          "output_type": "execute_result",
          "data": {
            "text/plain": [
              "<matplotlib.axes._subplots.AxesSubplot at 0x7f603effced0>"
            ]
          },
          "metadata": {
            "tags": []
          },
          "execution_count": 21
        },
        {
          "output_type": "display_data",
          "data": {
            "image/png": "[encoded data removed]",
            "text/plain": [
              "<Figure size 432x288 with 1 Axes>"
            ]
          },
          "metadata": {
            "tags": [],
            "needs_background": "light"
          }
        }
      ]
    },
    {
      "cell_type": "markdown",
      "metadata": {
        "id": "tDraukBJfcpW"
      },
      "source": [
        "- #### <font color='orange'> Q6. 위 그래프의 세로축이 갯수가 아닌 비율을 나타내도록 재구성해보세요."
      ]
    },
    {
      "cell_type": "code",
      "metadata": {
        "id": "0Sw6cCs0fcpW",
        "colab": {
          "base_uri": "https://localhost:8080/",
          "height": 215
        },
        "outputId": "e0a0de55-d482-4eff-e33c-1b862a360cc1"
      },
      "source": [
        "# Q6\n",
        "room_type_gr_ra = df.value_counts(df[\"room_type\"].values/df[\"room_type\"].sum(), sort=True)\n",
        "room_type_gr_ra.plot.bar()\n",
        "room_type_gr_ra.plot.bar()"
      ],
      "execution_count": 9,
      "outputs": [
        {
          "output_type": "error",
          "ename": "TypeError",
          "evalue": "ignored",
          "traceback": [
            "\u001b[0;31m---------------------------------------------------------------------------\u001b[0m",
            "\u001b[0;31mTypeError\u001b[0m                                 Traceback (most recent call last)",
            "\u001b[0;32m<ipython-input-9-f9eccde06b90>\u001b[0m in \u001b[0;36m<module>\u001b[0;34m()\u001b[0m\n\u001b[1;32m      1\u001b[0m \u001b[0;31m# Q6\u001b[0m\u001b[0;34m\u001b[0m\u001b[0;34m\u001b[0m\u001b[0;34m\u001b[0m\u001b[0m\n\u001b[0;32m----> 2\u001b[0;31m \u001b[0mroom_type_gr_ra\u001b[0m \u001b[0;34m=\u001b[0m \u001b[0mdf\u001b[0m\u001b[0;34m.\u001b[0m\u001b[0mvalue_counts\u001b[0m\u001b[0;34m(\u001b[0m\u001b[0mdf\u001b[0m\u001b[0;34m[\u001b[0m\u001b[0;34m\"room_type\"\u001b[0m\u001b[0;34m]\u001b[0m\u001b[0;34m.\u001b[0m\u001b[0mvalues\u001b[0m\u001b[0;34m/\u001b[0m\u001b[0mdf\u001b[0m\u001b[0;34m[\u001b[0m\u001b[0;34m\"room_type\"\u001b[0m\u001b[0;34m]\u001b[0m\u001b[0;34m.\u001b[0m\u001b[0msum\u001b[0m\u001b[0;34m(\u001b[0m\u001b[0;34m)\u001b[0m\u001b[0;34m,\u001b[0m \u001b[0msort\u001b[0m\u001b[0;34m=\u001b[0m\u001b[0;32mTrue\u001b[0m\u001b[0;34m)\u001b[0m\u001b[0;34m\u001b[0m\u001b[0;34m\u001b[0m\u001b[0m\n\u001b[0m\u001b[1;32m      3\u001b[0m \u001b[0mroom_type_gr_ra\u001b[0m\u001b[0;34m.\u001b[0m\u001b[0mplot\u001b[0m\u001b[0;34m.\u001b[0m\u001b[0mbar\u001b[0m\u001b[0;34m(\u001b[0m\u001b[0;34m)\u001b[0m\u001b[0;34m\u001b[0m\u001b[0;34m\u001b[0m\u001b[0m\n\u001b[1;32m      4\u001b[0m \u001b[0mroom_type_gr_ra\u001b[0m\u001b[0;34m.\u001b[0m\u001b[0mplot\u001b[0m\u001b[0;34m.\u001b[0m\u001b[0mbar\u001b[0m\u001b[0;34m(\u001b[0m\u001b[0;34m)\u001b[0m\u001b[0;34m\u001b[0m\u001b[0;34m\u001b[0m\u001b[0m\n",
            "\u001b[0;31mTypeError\u001b[0m: unsupported operand type(s) for /: 'str' and 'str'"
          ]
        }
      ]
    },
    {
      "cell_type": "markdown",
      "metadata": {
        "id": "iN06xvJufcpZ"
      },
      "source": [
        "- #### <font color='orange'> Q7. 각 지역별로 room_type의 비율이 어땠는 지 알고 싶습니다.\n",
        "#### <font color='orange'> 아래 그래프와 같이 각 지역별로 room_type의 갯수가 어땠는지 보여주세요.    "
      ]
    },
    {
      "cell_type": "code",
      "metadata": {
        "id": "wAXnxXDVfcpa",
        "colab": {
          "base_uri": "https://localhost:8080/",
          "height": 334
        },
        "outputId": "9f22621d-4796-42a9-9a77-e4eea20f2d75"
      },
      "source": [
        "# Q7\n",
        "plt.figure(figsize=(15,6))\n",
        "area = df.groupby(by=[\"neighborhood\"])\n",
        "area.value_counts(df[\"room_type\"].values, sort=True)"
      ],
      "execution_count": null,
      "outputs": [
        {
          "output_type": "error",
          "ename": "AttributeError",
          "evalue": "ignored",
          "traceback": [
            "\u001b[0;31m---------------------------------------------------------------------------\u001b[0m",
            "\u001b[0;31mAttributeError\u001b[0m                            Traceback (most recent call last)",
            "\u001b[0;32m<ipython-input-27-a29068040121>\u001b[0m in \u001b[0;36m<module>\u001b[0;34m()\u001b[0m\n\u001b[1;32m      2\u001b[0m \u001b[0mplt\u001b[0m\u001b[0;34m.\u001b[0m\u001b[0mfigure\u001b[0m\u001b[0;34m(\u001b[0m\u001b[0mfigsize\u001b[0m\u001b[0;34m=\u001b[0m\u001b[0;34m(\u001b[0m\u001b[0;36m15\u001b[0m\u001b[0;34m,\u001b[0m\u001b[0;36m6\u001b[0m\u001b[0;34m)\u001b[0m\u001b[0;34m)\u001b[0m\u001b[0;34m\u001b[0m\u001b[0;34m\u001b[0m\u001b[0m\n\u001b[1;32m      3\u001b[0m \u001b[0marea\u001b[0m \u001b[0;34m=\u001b[0m \u001b[0mdf\u001b[0m\u001b[0;34m.\u001b[0m\u001b[0mgroupby\u001b[0m\u001b[0;34m(\u001b[0m\u001b[0mby\u001b[0m\u001b[0;34m=\u001b[0m\u001b[0;34m[\u001b[0m\u001b[0;34m\"neighborhood\"\u001b[0m\u001b[0;34m]\u001b[0m\u001b[0;34m)\u001b[0m\u001b[0;34m\u001b[0m\u001b[0;34m\u001b[0m\u001b[0m\n\u001b[0;32m----> 4\u001b[0;31m \u001b[0marea\u001b[0m\u001b[0;34m.\u001b[0m\u001b[0mvalue_counts\u001b[0m\u001b[0;34m(\u001b[0m\u001b[0mdf\u001b[0m\u001b[0;34m[\u001b[0m\u001b[0;34m\"room_type\"\u001b[0m\u001b[0;34m]\u001b[0m\u001b[0;34m.\u001b[0m\u001b[0mvalues\u001b[0m\u001b[0;34m,\u001b[0m \u001b[0msort\u001b[0m\u001b[0;34m=\u001b[0m\u001b[0;32mTrue\u001b[0m\u001b[0;34m)\u001b[0m\u001b[0;34m\u001b[0m\u001b[0;34m\u001b[0m\u001b[0m\n\u001b[0m",
            "\u001b[0;32m/usr/local/lib/python3.7/dist-packages/pandas/core/groupby/groupby.py\u001b[0m in \u001b[0;36m__getattr__\u001b[0;34m(self, attr)\u001b[0m\n\u001b[1;32m    702\u001b[0m \u001b[0;34m\u001b[0m\u001b[0m\n\u001b[1;32m    703\u001b[0m         raise AttributeError(\n\u001b[0;32m--> 704\u001b[0;31m             \u001b[0;34mf\"'{type(self).__name__}' object has no attribute '{attr}'\"\u001b[0m\u001b[0;34m\u001b[0m\u001b[0;34m\u001b[0m\u001b[0m\n\u001b[0m\u001b[1;32m    705\u001b[0m         )\n\u001b[1;32m    706\u001b[0m \u001b[0;34m\u001b[0m\u001b[0m\n",
            "\u001b[0;31mAttributeError\u001b[0m: 'DataFrameGroupBy' object has no attribute 'value_counts'"
          ]
        },
        {
          "output_type": "display_data",
          "data": {
            "text/plain": [
              "<Figure size 1080x432 with 0 Axes>"
            ]
          },
          "metadata": {
            "tags": []
          }
        }
      ]
    },
    {
      "cell_type": "markdown",
      "metadata": {
        "id": "UA5MIpa0fcpg"
      },
      "source": [
        "- #### <font color='orange'> Q8. 각 지역별로 가격의 분포가 어떤지 알고 싶습니다.\n",
        "#### <font color='orange'> 아래 그래프와 같이 각 지역별로 가격의 분포를 보여주세요."
      ]
    },
    {
      "cell_type": "code",
      "metadata": {
        "id": "7tcvOOZmfcpg",
        "outputId": "a3f6f467-c4cb-4949-9ddb-80d1b7d44e4b"
      },
      "source": [
        "# Q8\n",
        "# plt.figure() 여기부턴 직접 사이즈 조절해보세요"
      ],
      "execution_count": null,
      "outputs": [
        {
          "output_type": "execute_result",
          "data": {
            "text/plain": [
              "<AxesSubplot:xlabel='neighborhood', ylabel='price'>"
            ]
          },
          "metadata": {
            "tags": []
          },
          "execution_count": 196
        },
        {
          "output_type": "display_data",
          "data": {
            "image/png": "[encoded data removed]",
            "text/plain": [
              "<Figure size 1080x432 with 1 Axes>"
            ]
          },
          "metadata": {
            "tags": [],
            "needs_background": "light"
          }
        }
      ]
    },
    {
      "cell_type": "markdown",
      "metadata": {
        "id": "xVaZ98NWfcpj"
      },
      "source": [
        "- #### <font color='orange'> Q9. 위 그래프들로부터 알 수 있는 사실은 무엇인가요? 그 이유는 무엇이라고 생각하시나요?"
      ]
    },
    {
      "cell_type": "code",
      "metadata": {
        "id": "CjWumnVOfcpj"
      },
      "source": [
        "# Q9\n",
        "\n"
      ],
      "execution_count": null,
      "outputs": []
    },
    {
      "cell_type": "markdown",
      "metadata": {
        "id": "orxw6U8C2eK5"
      },
      "source": [
        "---\n",
        "### 4) 연속형 변수 확인"
      ]
    },
    {
      "cell_type": "markdown",
      "metadata": {
        "id": "fnmWOYOnfcpn"
      },
      "source": [
        "- #### <font color='orange'> Q10. 각 방의 수용가능인원의 분포를 알고싶습니다.\n",
        "#### <font color='orange'> 'accommodates' 칼럼에 대한 히스토그램을 그려주세요."
      ]
    },
    {
      "cell_type": "code",
      "metadata": {
        "id": "P4Ttc5iGfcpo",
        "outputId": "797bee99-86e1-4edf-f6c1-41f8f34cb0e5"
      },
      "source": [
        "# Q10\n"
      ],
      "execution_count": null,
      "outputs": [
        {
          "output_type": "display_data",
          "data": {
            "image/png": "[encoded data removed]",
            "text/plain": [
              "<Figure size 864x432 with 1 Axes>"
            ]
          },
          "metadata": {
            "tags": [],
            "needs_background": "light"
          }
        }
      ]
    },
    {
      "cell_type": "markdown",
      "metadata": {
        "id": "Likx5P43fcpr"
      },
      "source": [
        "- #### <font color='orange'> Q11. 각 방의 가격의 분포를 알고 싶습니다.\n",
        "#### <font color='orange'> 'price' 칼럼에 대한 히스토그램을 그려주세요. 범위는 0~1000까지만 보여주세요."
      ]
    },
    {
      "cell_type": "code",
      "metadata": {
        "id": "PM4oic9Ffcpr",
        "outputId": "714ab71b-ceb7-44fd-d64d-d92bfb9eccf5"
      },
      "source": [
        "# Q11"
      ],
      "execution_count": null,
      "outputs": [
        {
          "output_type": "display_data",
          "data": {
            "image/png": "[encoded data removed]",
            "text/plain": [
              "<Figure size 864x432 with 1 Axes>"
            ]
          },
          "metadata": {
            "tags": [],
            "needs_background": "light"
          }
        }
      ]
    },
    {
      "cell_type": "markdown",
      "metadata": {
        "id": "ZXHTpb4bfcpt"
      },
      "source": [
        "---\n",
        "\n",
        "EDA는 언뜻보면 불필요해 보이는 과정이지만, 실제 데이터를 다룰때 매우매우 중요한 과정입니다.\n",
        "\n",
        "때문에 기본적인 개념 및 시각화 방법은 숙지해 두시는 것이 좋습니다!\n",
        "\n",
        "시각화한 자료를 바탕으로 실제 특성들을 가공하는 방법에 대해서는 \n",
        "\n",
        "<font color='orange'> 다음 시간인 FE 시간에 배우게 될 예정입니다.\n",
        "\n",
        "다음 시간에 봐요!\n",
        "\n",
        "---"
      ]
    },
    {
      "cell_type": "markdown",
      "metadata": {
        "id": "PCG3bSBpfcpu"
      },
      "source": [
        "  "
      ]
    },
    {
      "cell_type": "markdown",
      "metadata": {
        "id": "86rqFGIXfcpu"
      },
      "source": [
        "  "
      ]
    },
    {
      "cell_type": "markdown",
      "metadata": {
        "id": "LnK6vNAQfcpu"
      },
      "source": [
        "  "
      ]
    },
    {
      "cell_type": "markdown",
      "metadata": {
        "id": "MNkTCRuzfcpv"
      },
      "source": [
        "      "
      ]
    },
    {
      "cell_type": "markdown",
      "metadata": {
        "id": "Ws-3Vawbfcpv"
      },
      "source": [
        "\n",
        "\n",
        "\n",
        "\n"
      ]
    },
    {
      "cell_type": "markdown",
      "metadata": {
        "id": "QCliOYxPfcpw"
      },
      "source": [
        "* Q2 hint\n",
        "\n",
        "<font color='white'> df의 null의 개수를 센 다음에, \".to_frame()\" 을 써보세요. </font>"
      ]
    },
    {
      "cell_type": "markdown",
      "metadata": {
        "id": "bhGUNQPlfcpw"
      },
      "source": [
        "* Q3 hint\n",
        "\n",
        "<font color='white'> x축 라벨을 45도 기울이려면 plot.set_xticklabels()을 찾아보세요. </font>\n",
        "\n"
      ]
    },
    {
      "cell_type": "code",
      "metadata": {
        "id": "Mrthg6qafcpw"
      },
      "source": [
        ""
      ],
      "execution_count": null,
      "outputs": []
    }
  ]
}